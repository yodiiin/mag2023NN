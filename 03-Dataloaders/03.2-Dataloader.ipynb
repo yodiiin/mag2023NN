{
 "cells": [
  {
   "cell_type": "markdown",
   "id": "e0d15bce-e0f8-4bde-82c8-ac9abfb7b497",
   "metadata": {},
   "source": [
    "## Dataset & Dataloader"
   ]
  },
  {
   "cell_type": "markdown",
   "id": "d2333acd-699e-46a3-82e4-3cc7fe4463f3",
   "metadata": {},
   "source": [
    "Датасет хранит все данные, а даталоудер может по ним итерироваться, управлять созданием батчей, трансформировать данные и т.д. "
   ]
  },
  {
   "cell_type": "code",
   "execution_count": 1,
   "id": "b69b722c-5fa9-4552-bd6c-af3f256daeae",
   "metadata": {},
   "outputs": [
    {
     "name": "stdout",
     "output_type": "stream",
     "text": [
      "Collecting torchmetrics\n",
      "  Downloading torchmetrics-1.5.1-py3-none-any.whl.metadata (20 kB)\n",
      "Requirement already satisfied: numpy<2.0,>1.20.0 in c:\\users\\pc\\appdata\\local\\programs\\python\\python312\\lib\\site-packages (from torchmetrics) (1.26.4)\n",
      "Requirement already satisfied: packaging>17.1 in c:\\users\\pc\\appdata\\local\\programs\\python\\python312\\lib\\site-packages (from torchmetrics) (24.1)\n",
      "Requirement already satisfied: torch>=1.10.0 in c:\\users\\pc\\appdata\\local\\programs\\python\\python312\\lib\\site-packages (from torchmetrics) (2.4.1+cu118)\n",
      "Collecting lightning-utilities>=0.8.0 (from torchmetrics)\n",
      "  Downloading lightning_utilities-0.11.8-py3-none-any.whl.metadata (5.2 kB)\n",
      "Requirement already satisfied: setuptools in c:\\users\\pc\\appdata\\local\\programs\\python\\python312\\lib\\site-packages (from lightning-utilities>=0.8.0->torchmetrics) (72.1.0)\n",
      "Requirement already satisfied: typing-extensions in c:\\users\\pc\\appdata\\local\\programs\\python\\python312\\lib\\site-packages (from lightning-utilities>=0.8.0->torchmetrics) (4.12.2)\n",
      "Requirement already satisfied: filelock in c:\\users\\pc\\appdata\\local\\programs\\python\\python312\\lib\\site-packages (from torch>=1.10.0->torchmetrics) (3.15.4)\n",
      "Requirement already satisfied: sympy in c:\\users\\pc\\appdata\\local\\programs\\python\\python312\\lib\\site-packages (from torch>=1.10.0->torchmetrics) (1.13.1)\n",
      "Requirement already satisfied: networkx in c:\\users\\pc\\appdata\\local\\programs\\python\\python312\\lib\\site-packages (from torch>=1.10.0->torchmetrics) (3.3)\n",
      "Requirement already satisfied: jinja2 in c:\\users\\pc\\appdata\\local\\programs\\python\\python312\\lib\\site-packages (from torch>=1.10.0->torchmetrics) (3.1.4)\n",
      "Requirement already satisfied: fsspec in c:\\users\\pc\\appdata\\local\\programs\\python\\python312\\lib\\site-packages (from torch>=1.10.0->torchmetrics) (2024.6.1)\n",
      "Requirement already satisfied: MarkupSafe>=2.0 in c:\\users\\pc\\appdata\\local\\programs\\python\\python312\\lib\\site-packages (from jinja2->torch>=1.10.0->torchmetrics) (2.1.5)\n",
      "Requirement already satisfied: mpmath<1.4,>=1.1.0 in c:\\users\\pc\\appdata\\local\\programs\\python\\python312\\lib\\site-packages (from sympy->torch>=1.10.0->torchmetrics) (1.3.0)\n",
      "Downloading torchmetrics-1.5.1-py3-none-any.whl (890 kB)\n",
      "   ---------------------------------------- 0.0/890.6 kB ? eta -:--:--\n",
      "   ----------- ---------------------------- 262.1/890.6 kB ? eta -:--:--\n",
      "   ----------------------------------- ---- 786.4/890.6 kB 3.0 MB/s eta 0:00:01\n",
      "   ---------------------------------------- 890.6/890.6 kB 2.5 MB/s eta 0:00:00\n",
      "Downloading lightning_utilities-0.11.8-py3-none-any.whl (26 kB)\n",
      "Installing collected packages: lightning-utilities, torchmetrics\n",
      "Successfully installed lightning-utilities-0.11.8 torchmetrics-1.5.1\n"
     ]
    }
   ],
   "source": [
    "!pip install torchmetrics"
   ]
  },
  {
   "cell_type": "code",
   "execution_count": 2,
   "id": "aaa9b718-f1aa-40ea-864d-65d8812727fc",
   "metadata": {},
   "outputs": [],
   "source": [
    "import pandas as pd\n",
    "import numpy as np\n",
    "import torch\n",
    "import torch.nn as nn \n",
    "from torch.utils.data import Dataset, DataLoader, TensorDataset\n",
    "import torch.nn.functional as F \n",
    "import torch.optim as optim\n",
    "from torchmetrics import Accuracy\n",
    "from sklearn.model_selection import train_test_split\n",
    "import random\n",
    "\n",
    "def set_random_seed(seed):\n",
    "    torch.backends.cudnn.deterministic = True\n",
    "    torch.manual_seed(seed)\n",
    "    torch.cuda.manual_seed(seed)\n",
    "    np.random.seed(seed)\n",
    "    random.seed(seed)"
   ]
  },
  {
   "cell_type": "markdown",
   "id": "a5dfbc3a-dc4b-42e5-ad5c-2ae05f3d46e4",
   "metadata": {},
   "source": [
    "Pandas для нас необязателен, но его удобно использовать. \n",
    "\n",
    "У нас есть датасет из прошлого семестра про качество вина. Подгрузим его. "
   ]
  },
  {
   "cell_type": "code",
   "execution_count": 3,
   "id": "bc30c416-4fd3-48d0-b862-91aed3703fe8",
   "metadata": {},
   "outputs": [
    {
     "name": "stderr",
     "output_type": "stream",
     "text": [
      "\"wget\" �� ���� ����७��� ��� ���譥�\n",
      "��������, �ᯮ��塞�� �ணࠬ��� ��� ������ 䠩���.\n"
     ]
    }
   ],
   "source": [
    "!wget https://raw.githubusercontent.com/rsuh-python/mag2023/main/CL/term02/04-ClassificationTrees/winequalityN.csv"
   ]
  },
  {
   "cell_type": "code",
   "execution_count": 5,
   "id": "96ed55ce-78d1-496b-bb87-672e2186f378",
   "metadata": {},
   "outputs": [
    {
     "data": {
      "text/html": [
       "<div>\n",
       "<style scoped>\n",
       "    .dataframe tbody tr th:only-of-type {\n",
       "        vertical-align: middle;\n",
       "    }\n",
       "\n",
       "    .dataframe tbody tr th {\n",
       "        vertical-align: top;\n",
       "    }\n",
       "\n",
       "    .dataframe thead th {\n",
       "        text-align: right;\n",
       "    }\n",
       "</style>\n",
       "<table border=\"1\" class=\"dataframe\">\n",
       "  <thead>\n",
       "    <tr style=\"text-align: right;\">\n",
       "      <th></th>\n",
       "      <th>type</th>\n",
       "      <th>fixed acidity</th>\n",
       "      <th>volatile acidity</th>\n",
       "      <th>citric acid</th>\n",
       "      <th>residual sugar</th>\n",
       "      <th>chlorides</th>\n",
       "      <th>free sulfur dioxide</th>\n",
       "      <th>total sulfur dioxide</th>\n",
       "      <th>density</th>\n",
       "      <th>pH</th>\n",
       "      <th>sulphates</th>\n",
       "      <th>alcohol</th>\n",
       "      <th>quality</th>\n",
       "    </tr>\n",
       "  </thead>\n",
       "  <tbody>\n",
       "    <tr>\n",
       "      <th>0</th>\n",
       "      <td>white</td>\n",
       "      <td>7.0</td>\n",
       "      <td>0.27</td>\n",
       "      <td>0.36</td>\n",
       "      <td>20.7</td>\n",
       "      <td>0.045</td>\n",
       "      <td>45.0</td>\n",
       "      <td>170.0</td>\n",
       "      <td>1.0010</td>\n",
       "      <td>3.00</td>\n",
       "      <td>0.45</td>\n",
       "      <td>8.8</td>\n",
       "      <td>6</td>\n",
       "    </tr>\n",
       "    <tr>\n",
       "      <th>1</th>\n",
       "      <td>white</td>\n",
       "      <td>6.3</td>\n",
       "      <td>0.30</td>\n",
       "      <td>0.34</td>\n",
       "      <td>1.6</td>\n",
       "      <td>0.049</td>\n",
       "      <td>14.0</td>\n",
       "      <td>132.0</td>\n",
       "      <td>0.9940</td>\n",
       "      <td>3.30</td>\n",
       "      <td>0.49</td>\n",
       "      <td>9.5</td>\n",
       "      <td>6</td>\n",
       "    </tr>\n",
       "    <tr>\n",
       "      <th>2</th>\n",
       "      <td>white</td>\n",
       "      <td>8.1</td>\n",
       "      <td>0.28</td>\n",
       "      <td>0.40</td>\n",
       "      <td>6.9</td>\n",
       "      <td>0.050</td>\n",
       "      <td>30.0</td>\n",
       "      <td>97.0</td>\n",
       "      <td>0.9951</td>\n",
       "      <td>3.26</td>\n",
       "      <td>0.44</td>\n",
       "      <td>10.1</td>\n",
       "      <td>6</td>\n",
       "    </tr>\n",
       "    <tr>\n",
       "      <th>3</th>\n",
       "      <td>white</td>\n",
       "      <td>7.2</td>\n",
       "      <td>0.23</td>\n",
       "      <td>0.32</td>\n",
       "      <td>8.5</td>\n",
       "      <td>0.058</td>\n",
       "      <td>47.0</td>\n",
       "      <td>186.0</td>\n",
       "      <td>0.9956</td>\n",
       "      <td>3.19</td>\n",
       "      <td>0.40</td>\n",
       "      <td>9.9</td>\n",
       "      <td>6</td>\n",
       "    </tr>\n",
       "    <tr>\n",
       "      <th>4</th>\n",
       "      <td>white</td>\n",
       "      <td>7.2</td>\n",
       "      <td>0.23</td>\n",
       "      <td>0.32</td>\n",
       "      <td>8.5</td>\n",
       "      <td>0.058</td>\n",
       "      <td>47.0</td>\n",
       "      <td>186.0</td>\n",
       "      <td>0.9956</td>\n",
       "      <td>3.19</td>\n",
       "      <td>0.40</td>\n",
       "      <td>9.9</td>\n",
       "      <td>6</td>\n",
       "    </tr>\n",
       "  </tbody>\n",
       "</table>\n",
       "</div>"
      ],
      "text/plain": [
       "    type  fixed acidity  volatile acidity  citric acid  residual sugar  \\\n",
       "0  white            7.0              0.27         0.36            20.7   \n",
       "1  white            6.3              0.30         0.34             1.6   \n",
       "2  white            8.1              0.28         0.40             6.9   \n",
       "3  white            7.2              0.23         0.32             8.5   \n",
       "4  white            7.2              0.23         0.32             8.5   \n",
       "\n",
       "   chlorides  free sulfur dioxide  total sulfur dioxide  density    pH  \\\n",
       "0      0.045                 45.0                 170.0   1.0010  3.00   \n",
       "1      0.049                 14.0                 132.0   0.9940  3.30   \n",
       "2      0.050                 30.0                  97.0   0.9951  3.26   \n",
       "3      0.058                 47.0                 186.0   0.9956  3.19   \n",
       "4      0.058                 47.0                 186.0   0.9956  3.19   \n",
       "\n",
       "   sulphates  alcohol  quality  \n",
       "0       0.45      8.8        6  \n",
       "1       0.49      9.5        6  \n",
       "2       0.44     10.1        6  \n",
       "3       0.40      9.9        6  \n",
       "4       0.40      9.9        6  "
      ]
     },
     "execution_count": 5,
     "metadata": {},
     "output_type": "execute_result"
    }
   ],
   "source": [
    "data = pd.read_csv('https://raw.githubusercontent.com/rsuh-python/mag2023/main/CL/term02/04-ClassificationTrees/winequalityN.csv')\n",
    "data.head()"
   ]
  },
  {
   "cell_type": "code",
   "execution_count": 6,
   "id": "38298019-6ce2-4124-8cc4-7fc285d7d733",
   "metadata": {},
   "outputs": [
    {
     "name": "stdout",
     "output_type": "stream",
     "text": [
      "<class 'pandas.core.frame.DataFrame'>\n",
      "RangeIndex: 6497 entries, 0 to 6496\n",
      "Data columns (total 13 columns):\n",
      " #   Column                Non-Null Count  Dtype  \n",
      "---  ------                --------------  -----  \n",
      " 0   type                  6497 non-null   object \n",
      " 1   fixed acidity         6487 non-null   float64\n",
      " 2   volatile acidity      6489 non-null   float64\n",
      " 3   citric acid           6494 non-null   float64\n",
      " 4   residual sugar        6495 non-null   float64\n",
      " 5   chlorides             6495 non-null   float64\n",
      " 6   free sulfur dioxide   6497 non-null   float64\n",
      " 7   total sulfur dioxide  6497 non-null   float64\n",
      " 8   density               6497 non-null   float64\n",
      " 9   pH                    6488 non-null   float64\n",
      " 10  sulphates             6493 non-null   float64\n",
      " 11  alcohol               6497 non-null   float64\n",
      " 12  quality               6497 non-null   int64  \n",
      "dtypes: float64(11), int64(1), object(1)\n",
      "memory usage: 660.0+ KB\n"
     ]
    }
   ],
   "source": [
    "data.info()"
   ]
  },
  {
   "cell_type": "markdown",
   "id": "8572897f-48c7-4157-9081-4bcfd9fd90f8",
   "metadata": {},
   "source": [
    "В датасете есть пропуски: дропнем их, иначе торчу будет плохо. "
   ]
  },
  {
   "cell_type": "code",
   "execution_count": 7,
   "id": "acfbe884-5a54-4e6c-87de-a677b8c106fc",
   "metadata": {},
   "outputs": [],
   "source": [
    "data.dropna(inplace=True)"
   ]
  },
  {
   "cell_type": "markdown",
   "id": "e725fd2a-fc82-48c1-ae4c-8ac77182e7e5",
   "metadata": {},
   "source": [
    "Для простоты сейчас оставим только числовые данные. "
   ]
  },
  {
   "cell_type": "code",
   "execution_count": 8,
   "id": "a9e68ab2-89d2-435b-8b2f-1996164b15ca",
   "metadata": {},
   "outputs": [],
   "source": [
    "data.drop('type', axis=1, inplace=True)"
   ]
  },
  {
   "cell_type": "markdown",
   "id": "cb037104-44a5-46d9-8223-6b6b486dce36",
   "metadata": {},
   "source": [
    "Допустим, мы хотим обучить простенькую нейронку на этих данных. Посмотрим распределение классов и их количество:"
   ]
  },
  {
   "cell_type": "code",
   "execution_count": 9,
   "id": "03c82bd8-68da-480f-96b9-fc0a7ed25b00",
   "metadata": {},
   "outputs": [
    {
     "data": {
      "text/plain": [
       "quality\n",
       "6    2820\n",
       "5    2128\n",
       "7    1074\n",
       "4     214\n",
       "8     192\n",
       "3      30\n",
       "9       5\n",
       "Name: count, dtype: int64"
      ]
     },
     "execution_count": 9,
     "metadata": {},
     "output_type": "execute_result"
    }
   ],
   "source": [
    "data.quality.value_counts()"
   ]
  },
  {
   "cell_type": "markdown",
   "id": "414c3baf-ff75-44db-93c1-822235eef3d0",
   "metadata": {},
   "source": [
    "Давайте укрупним классы: сольем 3, 4 с 5 и 8, 9 с 7 (это, конечно, не дело, но нам пока побаловаться сойдет). "
   ]
  },
  {
   "cell_type": "code",
   "execution_count": 10,
   "id": "fed1040b-7d4e-42dd-9627-d04a3c92a44d",
   "metadata": {},
   "outputs": [],
   "source": [
    "data.loc[data['quality'] == 8, 'quality'] = 7\n",
    "data.loc[data['quality'] == 9, 'quality'] = 7\n",
    "data.loc[data['quality'] == 3, 'quality'] = 5\n",
    "data.loc[data['quality'] == 4, 'quality'] = 5"
   ]
  },
  {
   "cell_type": "markdown",
   "id": "344b5e84-c748-4ff0-ab4d-1ba1dd8cb82d",
   "metadata": {},
   "source": [
    "Отделим мухи от котлет, нормализуем данные и для красоты перекодируем классы в 0, 1, 2 (хотя в целом пофиг вроде бы). "
   ]
  },
  {
   "cell_type": "code",
   "execution_count": 11,
   "id": "ac34ba70-959e-4f50-87a0-1221c8831fdc",
   "metadata": {},
   "outputs": [],
   "source": [
    "X = data.drop('quality', axis=1)\n",
    "y = data.quality"
   ]
  },
  {
   "cell_type": "code",
   "execution_count": 12,
   "id": "b9a37c1b-e93d-46ee-8501-6a748ec9c1a7",
   "metadata": {},
   "outputs": [
    {
     "data": {
      "text/plain": [
       "array([1, 1, 1, ..., 1, 0, 1], dtype=int64)"
      ]
     },
     "execution_count": 12,
     "metadata": {},
     "output_type": "execute_result"
    }
   ],
   "source": [
    "from sklearn.preprocessing import LabelEncoder\n",
    "le = LabelEncoder()\n",
    "y = le.fit_transform(y)\n",
    "y"
   ]
  },
  {
   "cell_type": "markdown",
   "id": "c8824378-af06-4681-9c46-3783a51854c2",
   "metadata": {},
   "source": [
    "Для таких простых табличных данных можно использовать стандартные Dataset & DataLoader, но мы посмотрим, как можно написать собственный класс Dataset. \n",
    "\n",
    "Поделим на трейн и тест обычным sklearn'ом. "
   ]
  },
  {
   "cell_type": "code",
   "execution_count": 28,
   "id": "100aaefa-8b97-4a17-b2cf-aeafdab5a239",
   "metadata": {},
   "outputs": [],
   "source": [
    "X_train, X_test, y_train, y_test = train_test_split(X, y, test_size=0.2, stratify=y, random_state=42)"
   ]
  },
  {
   "cell_type": "code",
   "execution_count": 14,
   "id": "0b6d185f-caba-47aa-a535-876ebbf87659",
   "metadata": {},
   "outputs": [],
   "source": [
    "from sklearn.preprocessing import StandardScaler\n",
    "ss = StandardScaler()\n",
    "\n",
    "X_train = ss.fit_transform(X_train)\n",
    "X_test = ss.transform(X_test)"
   ]
  },
  {
   "cell_type": "markdown",
   "id": "e824b7c5-69fd-4a22-8053-9c05563390f2",
   "metadata": {},
   "source": [
    "В классе для датасета необходимо перегрузить два метода (помимо init): чтобы экземпляр возвращал свою длину и выдавал пару фичи - ytrue. "
   ]
  },
  {
   "cell_type": "code",
   "execution_count": 29,
   "id": "171421ef-1073-40de-994f-f7b45a9b41a0",
   "metadata": {},
   "outputs": [],
   "source": [
    "class MyDataset(Dataset):\n",
    "\n",
    "    def __init__(self, x, y):\n",
    "        self.x = torch.tensor(x.values, dtype=torch.float32) # если применяем масштабирование (ячейка сверху), то .values надо убрать\n",
    "        self.y = torch.tensor(y, dtype=torch.long)\n",
    " \n",
    "    def __len__(self):\n",
    "        return len(self.y)\n",
    "\n",
    "    def __getitem__(self, idx):\n",
    "        return self.x[idx], self.y[idx]"
   ]
  },
  {
   "cell_type": "markdown",
   "id": "155534fd-3ece-48a2-834f-7dfdf7436720",
   "metadata": {},
   "source": [
    "Проверим, как это будет выглядеть:"
   ]
  },
  {
   "cell_type": "code",
   "execution_count": 30,
   "id": "91628de6-a7e6-407d-8999-afc57a78507b",
   "metadata": {},
   "outputs": [],
   "source": [
    "test = DataLoader(dataset=MyDataset(X_train, y_train), batch_size=5, shuffle=True)"
   ]
  },
  {
   "cell_type": "code",
   "execution_count": 19,
   "id": "a3488da8-b905-4d3c-b4ad-a5b226c0a57e",
   "metadata": {},
   "outputs": [
    {
     "data": {
      "text/plain": [
       "[tensor([[-0.6316,  0.4285, -2.1552,  0.1241, -0.2262, -0.5958, -0.8191, -0.3646,\n",
       "          -0.1635, -0.7367, -0.4041],\n",
       "         [ 0.2932, -1.0859,  0.8393, -0.8563, -0.3743, -0.3154, -0.1281, -0.5034,\n",
       "          -0.6652,  1.4705, -0.1518],\n",
       "         [ 0.3703,  1.4583, -2.1552, -0.7729,  0.9588, -1.0444, -1.7404,  0.3163,\n",
       "           0.6517,  0.1996,  0.0163],\n",
       "         [ 2.0658,  1.2159,  0.9090, -0.6686,  0.4552, -0.8201, -1.3506,  1.4466,\n",
       "           1.0906,  0.6010, -0.9085],\n",
       "         [ 0.3703, -0.1773, -0.6231, -0.7311,  0.3959, -0.0911,  0.3148, -0.2985,\n",
       "          -0.6652,  0.6010, -0.5722]]),\n",
       " tensor([0, 1, 2, 0, 0])]"
      ]
     },
     "execution_count": 19,
     "metadata": {},
     "output_type": "execute_result"
    }
   ],
   "source": [
    "next(iter(test))"
   ]
  },
  {
   "cell_type": "markdown",
   "id": "7507b9e7-5b71-4b44-b503-8647e850dc22",
   "metadata": {},
   "source": [
    "Теперь можно собрать трейн и тест. На трейне хотим шаффлить, чтобы было как можно больше вариаций в батчах, а на тесте скорее нет - для детерминированности результата. "
   ]
  },
  {
   "cell_type": "code",
   "execution_count": 32,
   "id": "d63e7b1d-3d63-442a-9658-1720630a1e2c",
   "metadata": {},
   "outputs": [],
   "source": [
    "train_loader = DataLoader(dataset=MyDataset(X_train, y_train), batch_size=BATCH_SIZE, shuffle=True)\n",
    "test_loader = DataLoader(dataset=MyDataset(X_test, y_test), batch_size=BATCH_SIZE, shuffle=False)"
   ]
  },
  {
   "cell_type": "markdown",
   "id": "4ae2af38-cdbb-42e4-8c00-e9bb260270cb",
   "metadata": {},
   "source": [
    "Зададим параметры и напишем класс с моделью. "
   ]
  },
  {
   "cell_type": "code",
   "execution_count": 31,
   "id": "5ec0e874-78a6-42a8-87bc-4bd04284c930",
   "metadata": {},
   "outputs": [],
   "source": [
    "INPUT_SIZE = 11\n",
    "HIDDEN_SIZE = 35\n",
    "OUTPUT_SIZE = 3\n",
    "LEARNING_RATE = 1e-3\n",
    "EPOCHS = 100\n",
    "BATCH_SIZE = 1024 # у нас очень маленький датасет с маленьким набором фич, можем хоть весь целиком в батч запихнуть"
   ]
  },
  {
   "cell_type": "code",
   "execution_count": 33,
   "id": "78a6644c-9b8f-4630-a000-e74d91b34005",
   "metadata": {},
   "outputs": [],
   "source": [
    "class TorchModel(nn.Module):\n",
    "    def __init__(self):\n",
    "        super().__init__()\n",
    "        self.fc1 = nn.Linear(in_features=INPUT_SIZE, out_features=HIDDEN_SIZE) # линейный полносвязный слой\n",
    "        self.fc2 = nn.Linear(in_features=HIDDEN_SIZE, out_features=HIDDEN_SIZE) # скрытый слой\n",
    "        self.out = nn.Linear(in_features=HIDDEN_SIZE, out_features=OUTPUT_SIZE) # выходной слой\n",
    "\n",
    "    def forward(self, x):\n",
    "        x = nn.LeakyReLU()(self.fc1(x)) # побалуемся с функциями активации\n",
    "        x = nn.LeakyReLU()(self.fc2(x))\n",
    "        x = self.out(x)\n",
    "        return x"
   ]
  },
  {
   "cell_type": "code",
   "execution_count": 26,
   "id": "d96ba7c3",
   "metadata": {},
   "outputs": [],
   "source": [
    "# проверяем что всё у нас правильно работает\n",
    "batch = next(iter(train_loader)) # возвращает х и у"
   ]
  },
  {
   "cell_type": "code",
   "execution_count": 34,
   "id": "bce9b2dc",
   "metadata": {},
   "outputs": [
    {
     "data": {
      "text/plain": [
       "[tensor([[-1.0940e+00, -7.2249e-01, -4.8383e-01,  ...,  9.6521e-01,\n",
       "           3.3342e-01, -6.7750e-02],\n",
       "         [-1.7106e+00,  2.4275e+00, -2.2248e+00,  ...,  4.9785e+00,\n",
       "           4.0030e-01,  1.6979e+00],\n",
       "         [ 3.7028e-01,  6.4999e-02,  1.1875e+00,  ..., -4.7708e-01,\n",
       "          -1.0043e+00,  1.6138e+00],\n",
       "         ...,\n",
       "         [-4.0041e-01,  4.4231e-03,  7.6969e-01,  ...,  8.7294e-02,\n",
       "          -6.0297e-01,  1.7820e+00],\n",
       "         [-1.4023e+00, -6.6192e-01,  2.8221e-01,  ...,  1.5000e-01,\n",
       "           3.0757e+00,  1.3616e+00],\n",
       "         [-3.2334e-01,  7.9191e-01, -1.6677e+00,  ...,  5.2625e-01,\n",
       "           8.0161e-01, -7.4038e-01]]),\n",
       " tensor([1, 1, 2,  ..., 1, 2, 1])]"
      ]
     },
     "execution_count": 34,
     "metadata": {},
     "output_type": "execute_result"
    }
   ],
   "source": [
    "batch"
   ]
  },
  {
   "cell_type": "markdown",
   "id": "6446d97a-3942-43da-9a8c-f46b13d59bc9",
   "metadata": {},
   "source": [
    "Соберем нужные штуки и инициализируем модель"
   ]
  },
  {
   "cell_type": "code",
   "execution_count": 27,
   "id": "cd7eebcf-9bf8-4c69-a61e-85396b792dab",
   "metadata": {
    "tags": []
   },
   "outputs": [],
   "source": [
    "criterion = nn.CrossEntropyLoss()\n",
    "accuracy = Accuracy(task='multiclass', num_classes=3)\n",
    "\n",
    "set_random_seed(42)\n",
    "model = TorchModel() # инициализируем нашу модель\n",
    "optimizer = optim.Adam(model.parameters(), lr=LEARNING_RATE)"
   ]
  },
  {
   "cell_type": "code",
   "execution_count": 37,
   "id": "108206b1",
   "metadata": {},
   "outputs": [
    {
     "data": {
      "text/plain": [
       "tensor([[0.1706, 0.0956, 0.0769],\n",
       "        [0.2888, 0.1575, 0.1211],\n",
       "        [0.0767, 0.0846, 0.2086],\n",
       "        ...,\n",
       "        [0.1189, 0.1210, 0.1300],\n",
       "        [0.3533, 0.1206, 0.3286],\n",
       "        [0.1198, 0.0625, 0.1126]], grad_fn=<AddmmBackward0>)"
      ]
     },
     "execution_count": 37,
     "metadata": {},
     "output_type": "execute_result"
    }
   ],
   "source": [
    "features, labels = batch\n",
    "\n",
    "model(batch[0])"
   ]
  },
  {
   "cell_type": "markdown",
   "id": "927bc348-42ff-4a38-ba5b-94bddff6dd70",
   "metadata": {},
   "source": [
    "Скопипастим из прошлых тетрадок трейнлуп..."
   ]
  },
  {
   "cell_type": "code",
   "execution_count": 38,
   "id": "b75cf271-2075-4387-a753-934bf18e6308",
   "metadata": {
    "tags": []
   },
   "outputs": [],
   "source": [
    "train_loss_values = []\n",
    "train_accuracy_values = []\n",
    "valid_loss_values = []\n",
    "valid_accuracy = []\n",
    "\n",
    "def run_train():\n",
    "    step = 0\n",
    "    for epoch in range(EPOCHS):\n",
    "        running_loss = []\n",
    "        running_acc = []\n",
    "        for features, label in train_loader:\n",
    "            # Reset gradients\n",
    "\n",
    "            output = model(features)\n",
    "            # Calculate error and backpropagate\n",
    "            loss = criterion(output, label) # функция потерь\n",
    "            loss.backward()\n",
    "            acc = accuracy(output, label).item()\n",
    "\n",
    "            # Update weights with gradients\n",
    "            optimizer.step()\n",
    "            optimizer.zero_grad()\n",
    "\n",
    "            running_loss.append(loss.item())\n",
    "            running_acc.append(acc)\n",
    "\n",
    "        train_loss_values.append(np.mean(running_loss))\n",
    "        train_accuracy_values.append(np.mean(running_acc))\n",
    "        if epoch % 20 == 0:\n",
    "            print(f'EPOCH {epoch}: train_loss: {train_loss_values[-1]}')# train_accuracy_values[-1]))\n",
    "\n",
    "\n",
    "        # Run validation\n",
    "        running_loss = []\n",
    "        running_acc = []\n",
    "        for features, label in test_loader:\n",
    "            output = model(features)\n",
    "            # Calculate error and backpropagate\n",
    "            loss = criterion(output, label)\n",
    "            acc = accuracy(output, label).item()\n",
    "\n",
    "            running_loss.append(loss.item())\n",
    "            running_acc.append(acc)\n",
    "\n",
    "        valid_loss_values.append(np.mean(running_loss))\n",
    "        valid_accuracy.append(np.mean(running_acc))\n",
    "        if epoch % 20 == 0:\n",
    "            print(f'EPOCH {epoch}: valid_loss: {valid_loss_values[-1]}, valid_accuracy: {valid_accuracy[-1]}')\n",
    "        \n",
    "    return train_loss_values, train_accuracy_values, valid_loss_values, valid_accuracy"
   ]
  },
  {
   "cell_type": "code",
   "execution_count": 39,
   "id": "22c4c2c2-dbed-40af-b76f-9d01dfab0d3c",
   "metadata": {},
   "outputs": [
    {
     "name": "stdout",
     "output_type": "stream",
     "text": [
      "EPOCH 0: train_loss: 2.9561476508776345\n",
      "EPOCH 0: valid_loss: 1.7319461703300476, valid_accuracy: 0.23183012753725052\n",
      "EPOCH 20: train_loss: 1.0266366203625996\n",
      "EPOCH 20: valid_loss: 1.0082798898220062, valid_accuracy: 0.4625275880098343\n",
      "EPOCH 40: train_loss: 1.009975751241048\n",
      "EPOCH 40: valid_loss: 0.9958680272102356, valid_accuracy: 0.4762938618659973\n",
      "EPOCH 60: train_loss: 0.985081801811854\n",
      "EPOCH 60: valid_loss: 0.978121429681778, valid_accuracy: 0.5026937127113342\n",
      "EPOCH 80: train_loss: 0.9581185380617777\n",
      "EPOCH 80: valid_loss: 0.9524401724338531, valid_accuracy: 0.4893050044775009\n"
     ]
    }
   ],
   "source": [
    "train_loss_values, train_accuracy_values, valid_loss_values, valid_accuracy = run_train()"
   ]
  }
 ],
 "metadata": {
  "kernelspec": {
   "display_name": "Python 3",
   "language": "python",
   "name": "python3"
  },
  "language_info": {
   "codemirror_mode": {
    "name": "ipython",
    "version": 3
   },
   "file_extension": ".py",
   "mimetype": "text/x-python",
   "name": "python",
   "nbconvert_exporter": "python",
   "pygments_lexer": "ipython3",
   "version": "3.12.4"
  }
 },
 "nbformat": 4,
 "nbformat_minor": 5
}
